{
 "cells": [
  {
   "cell_type": "code",
   "execution_count": 30,
   "metadata": {},
   "outputs": [],
   "source": [
    "# Validate:\n",
    "from glob import glob\n",
    "import os\n",
    "import random\n",
    "import cv2\n",
    "from PIL import Image\n",
    "\n",
    "image = random.choice(glob(\"training/train/images/*.jpg\"))\n",
    "label = image.replace(\"images\", 'labels').replace(\".jpg\", '.txt')\n",
    "\n",
    "with open(label) as handle:\n",
    "    annot = handle.readlines()\n",
    "\n",
    "\n",
    "img = cv2.imread(image)\n",
    "for ann in annot:\n",
    "    ann = list(map(eval, ann.split()))\n",
    "    w, h = filename2filedims[os.path.basename(image)]\n",
    "\n",
    "    bbox = list(map(int, yolo_to_coco(ann[1], ann[2], ann[3], ann[4], w, h)))\n",
    "    cv2.rectangle(img, (bbox[0], bbox[1]), (bbox[0]+bbox[2], bbox[1]+bbox[3]), (0, 0, 255), 2)"
   ]
  }
 ],
 "metadata": {
  "kernelspec": {
   "display_name": "godseye",
   "language": "python",
   "name": "python3"
  },
  "language_info": {
   "codemirror_mode": {
    "name": "ipython",
    "version": 3
   },
   "file_extension": ".py",
   "mimetype": "text/x-python",
   "name": "python",
   "nbconvert_exporter": "python",
   "pygments_lexer": "ipython3",
   "version": "3.10.13"
  }
 },
 "nbformat": 4,
 "nbformat_minor": 2
}
